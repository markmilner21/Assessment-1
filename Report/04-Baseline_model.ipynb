{
 "cells": [
  {
   "cell_type": "markdown",
   "metadata": {},
   "source": [
    "# 0: Section Overview\n",
    "\n",
    "In this section, we will impliment a baseline model. This will provide a basic model against which more complex models can be compared. This comparison will help us to gauge the effectiveness of enhancements or modifications made to the model. Additionally, It sets a standard for evaluating whether more sophisticated models actually provide improvements in predictive performance (in our case, this performance metric is measured as the MSE)."
   ]
  },
  {
   "cell_type": "markdown",
   "metadata": {},
   "source": [
    "# 1: Necessary Imports"
   ]
  },
  {
   "cell_type": "code",
   "execution_count": 20,
   "metadata": {},
   "outputs": [],
   "source": [
    "import pandas as pd\n",
    "import numpy as np\n",
    "import matplotlib\n",
    "import matplotlib.pyplot as plt\n",
    "from sklearn.linear_model import LinearRegression\n",
    "from sklearn.metrics import mean_squared_error"
   ]
  },
  {
   "cell_type": "markdown",
   "metadata": {},
   "source": [
    "# 2: Data Access\n",
    "\n",
    "We will access the data in the same way we accessed the date in section 03-EDA"
   ]
  },
  {
   "cell_type": "code",
   "execution_count": 11,
   "metadata": {},
   "outputs": [],
   "source": [
    "test_filepath = r\"C:\\Users\\markm\\OneDrive\\Documents\\University\\Year 4\\dst\\GitHub\\Assessment_1\\Train_and_Test_data\\test.xlsx\" # Enter your file path for the train data\n",
    "train_filepath = r\"C:\\Users\\markm\\OneDrive\\Documents\\University\\Year 4\\dst\\GitHub\\Assessment_1\\Train_and_Test_data\\train.xlsx\" # Enter your file path for the test data\n",
    "\n",
    "test_data = pd.read_excel(test_filepath)\n",
    "train_data = pd.read_excel(train_filepath)"
   ]
  },
  {
   "cell_type": "code",
   "execution_count": 13,
   "metadata": {},
   "outputs": [
    {
     "name": "stdout",
     "output_type": "stream",
     "text": [
      "            date iso_code continent      location  Stringency Index  CH Index  \\\n",
      "0     2020-01-05      AND    Europe       Andorra               0.0       0.0   \n",
      "1     2020-01-06      AND    Europe       Andorra               0.0       0.0   \n",
      "2     2020-01-07      AND    Europe       Andorra               0.0       0.0   \n",
      "3     2020-01-08      AND    Europe       Andorra               0.0       0.0   \n",
      "4     2020-01-09      AND    Europe       Andorra               0.0       0.0   \n",
      "...          ...      ...       ...           ...               ...       ...   \n",
      "52257 2024-07-31      ZAF    Africa  South Africa               NaN       NaN   \n",
      "52258 2024-08-01      ZAF    Africa  South Africa               NaN       NaN   \n",
      "52259 2024-08-02      ZAF    Africa  South Africa               NaN       NaN   \n",
      "52260 2024-08-03      ZAF    Africa  South Africa               NaN       NaN   \n",
      "52261 2024-08-04      ZAF    Africa  South Africa               NaN       NaN   \n",
      "\n",
      "       Gov Resp Index  Econ Sup Index  total_cases  new_cases  ...  \\\n",
      "0                 0.0             0.0          0.0        0.0  ...   \n",
      "1                 0.0             0.0          0.0        0.0  ...   \n",
      "2                 0.0             0.0          0.0        0.0  ...   \n",
      "3                 0.0             0.0          0.0        0.0  ...   \n",
      "4                 0.0             0.0          0.0        0.0  ...   \n",
      "...               ...             ...          ...        ...  ...   \n",
      "52257             NaN             NaN    4072765.0        0.0  ...   \n",
      "52258             NaN             NaN    4072765.0        0.0  ...   \n",
      "52259             NaN             NaN    4072765.0        0.0  ...   \n",
      "52260             NaN             NaN    4072765.0        0.0  ...   \n",
      "52261             NaN             NaN    4072765.0        0.0  ...   \n",
      "\n",
      "       handwashing_facilities  hospital_beds_per_thousand  life_expectancy  \\\n",
      "0                         NaN                         NaN            83.73   \n",
      "1                         NaN                         NaN            83.73   \n",
      "2                         NaN                         NaN            83.73   \n",
      "3                         NaN                         NaN            83.73   \n",
      "4                         NaN                         NaN            83.73   \n",
      "...                       ...                         ...              ...   \n",
      "52257                  43.993                        2.32            64.13   \n",
      "52258                  43.993                        2.32            64.13   \n",
      "52259                  43.993                        2.32            64.13   \n",
      "52260                  43.993                        2.32            64.13   \n",
      "52261                  43.993                        2.32            64.13   \n",
      "\n",
      "       human_development_index  population  \\\n",
      "0                        0.868       79843   \n",
      "1                        0.868       79843   \n",
      "2                        0.868       79843   \n",
      "3                        0.868       79843   \n",
      "4                        0.868       79843   \n",
      "...                        ...         ...   \n",
      "52257                    0.709    59893884   \n",
      "52258                    0.709    59893884   \n",
      "52259                    0.709    59893884   \n",
      "52260                    0.709    59893884   \n",
      "52261                    0.709    59893884   \n",
      "\n",
      "       excess_mortality_cumulative_absolute  excess_mortality_cumulative  \\\n",
      "0                                       NaN                          NaN   \n",
      "1                                       NaN                          NaN   \n",
      "2                                       NaN                          NaN   \n",
      "3                                       NaN                          NaN   \n",
      "4                                       NaN                          NaN   \n",
      "...                                     ...                          ...   \n",
      "52257                                   NaN                          NaN   \n",
      "52258                                   NaN                          NaN   \n",
      "52259                                   NaN                          NaN   \n",
      "52260                                   NaN                          NaN   \n",
      "52261                                   NaN                          NaN   \n",
      "\n",
      "       excess_mortality  excess_mortality_cumulative_per_million  days_since  \n",
      "0                   NaN                                      NaN           0  \n",
      "1                   NaN                                      NaN           1  \n",
      "2                   NaN                                      NaN           2  \n",
      "3                   NaN                                      NaN           3  \n",
      "4                   NaN                                      NaN           4  \n",
      "...                 ...                                      ...         ...  \n",
      "52257               NaN                                      NaN        1669  \n",
      "52258               NaN                                      NaN        1670  \n",
      "52259               NaN                                      NaN        1671  \n",
      "52260               NaN                                      NaN        1672  \n",
      "52261               NaN                                      NaN        1673  \n",
      "\n",
      "[52262 rows x 72 columns]\n"
     ]
    }
   ],
   "source": []
  },
  {
   "cell_type": "code",
   "execution_count": null,
   "metadata": {},
   "outputs": [],
   "source": [
    "print(test_data.head())"
   ]
  },
  {
   "cell_type": "markdown",
   "metadata": {},
   "source": [
    "# 3: Implimenting the baseline model: Linear Regression\n",
    "\n",
    "Initally, let us train the model on the entire training data. Note that we don't require the first 4 columns (date, iso_code, continent and location). Therefore, the first thing we will do is remove these columns."
   ]
  },
  {
   "cell_type": "code",
   "execution_count": 16,
   "metadata": {},
   "outputs": [
    {
     "name": "stdout",
     "output_type": "stream",
     "text": [
      "Index(['Stringency Index', 'CH Index', 'Gov Resp Index', 'Econ Sup Index',\n",
      "       'total_cases', 'new_cases', 'new_cases_smoothed', 'total_deaths',\n",
      "       'new_deaths', 'new_deaths_smoothed', 'total_cases_per_million',\n",
      "       'new_cases_per_million', 'new_cases_smoothed_per_million',\n",
      "       'total_deaths_per_million', 'new_deaths_per_million',\n",
      "       'new_deaths_smoothed_per_million', 'reproduction_rate', 'icu_patients',\n",
      "       'icu_patients_per_million', 'hosp_patients',\n",
      "       'hosp_patients_per_million', 'weekly_icu_admissions',\n",
      "       'weekly_icu_admissions_per_million', 'weekly_hosp_admissions',\n",
      "       'weekly_hosp_admissions_per_million', 'total_tests', 'new_tests',\n",
      "       'total_tests_per_thousand', 'new_tests_per_thousand',\n",
      "       'new_tests_smoothed', 'new_tests_smoothed_per_thousand',\n",
      "       'positive_rate', 'tests_per_case', 'tests_units', 'total_vaccinations',\n",
      "       'people_vaccinated', 'people_fully_vaccinated', 'total_boosters',\n",
      "       'new_vaccinations', 'new_vaccinations_smoothed',\n",
      "       'total_vaccinations_per_hundred', 'people_vaccinated_per_hundred',\n",
      "       'people_fully_vaccinated_per_hundred', 'total_boosters_per_hundred',\n",
      "       'new_vaccinations_smoothed_per_million',\n",
      "       'new_people_vaccinated_smoothed',\n",
      "       'new_people_vaccinated_smoothed_per_hundred', 'stringency_index',\n",
      "       'population_density', 'median_age', 'aged_65_older', 'aged_70_older',\n",
      "       'gdp_per_capita', 'extreme_poverty', 'cardiovasc_death_rate',\n",
      "       'diabetes_prevalence', 'female_smokers', 'male_smokers',\n",
      "       'handwashing_facilities', 'hospital_beds_per_thousand',\n",
      "       'life_expectancy', 'human_development_index', 'population',\n",
      "       'excess_mortality_cumulative_absolute', 'excess_mortality_cumulative',\n",
      "       'excess_mortality', 'excess_mortality_cumulative_per_million',\n",
      "       'days_since'],\n",
      "      dtype='object')\n"
     ]
    }
   ],
   "source": [
    "train_data_string_cols_rem = train_data.iloc[:, 4:]\n",
    "test_data_string_cols_rem = test_data.iloc[:, 4:]\n",
    "\n",
    "print(train_data_string_cols_rem.columns)"
   ]
  },
  {
   "cell_type": "markdown",
   "metadata": {},
   "source": [
    "### Training Data"
   ]
  },
  {
   "cell_type": "markdown",
   "metadata": {},
   "source": [
    "We will select the relevant columns for our particular model, these being the dependent variable, 'reproduction_rate', and all the covariates, these being 'Stringency Index','CH Index', 'Gov Resp Index', 'Econ Sup Index' and 'days_since'. We also choose to remove any rows with missing values. Later on in the project we will evaluate how we can go about using those rows with missing information."
   ]
  },
  {
   "cell_type": "code",
   "execution_count": 23,
   "metadata": {},
   "outputs": [
    {
     "name": "stdout",
     "output_type": "stream",
     "text": [
      "\n",
      "(139717, 5)\n",
      "139717\n"
     ]
    }
   ],
   "source": [
    "train_data_filtered = train_data_string_cols_rem[['reproduction_rate','Stringency Index','CH Index', 'Gov Resp Index', 'Econ Sup Index','days_since']].dropna()\n",
    "\n",
    "X_train = train_data_filtered[['Stringency Index','CH Index', 'Gov Resp Index', 'Econ Sup Index', 'days_since']]\n",
    "y_train = train_data_filtered[['reproduction_rate']]\n",
    "\n",
    "print()\n",
    "print(X_train.shape)\n",
    "print(len(y_train))"
   ]
  },
  {
   "cell_type": "markdown",
   "metadata": {},
   "source": [
    "### Testing Data\n",
    "\n",
    "We impliment the same filtering as we did with the training data."
   ]
  },
  {
   "cell_type": "code",
   "execution_count": 24,
   "metadata": {},
   "outputs": [
    {
     "name": "stdout",
     "output_type": "stream",
     "text": [
      "\n",
      "(29044, 5)\n",
      "29044\n"
     ]
    }
   ],
   "source": [
    "test_data_filtered = test_data_string_cols_rem[['reproduction_rate','Stringency Index','CH Index', 'Gov Resp Index', 'Econ Sup Index','days_since']].dropna()\n",
    "\n",
    "X_test = test_data_filtered[['Stringency Index','CH Index', 'Gov Resp Index', 'Econ Sup Index', 'days_since']]\n",
    "y_test = test_data_filtered[['reproduction_rate']]\n",
    "\n",
    "print()\n",
    "print(X_test.shape)\n",
    "print(len(y_test))"
   ]
  },
  {
   "cell_type": "code",
   "execution_count": 25,
   "metadata": {},
   "outputs": [
    {
     "name": "stdout",
     "output_type": "stream",
     "text": [
      "Mean Squared Error on the test data: 0.1233\n"
     ]
    }
   ],
   "source": [
    "# Initialize the linear regression model\n",
    "linear_model = LinearRegression()\n",
    "\n",
    "# Fit the model on the training data\n",
    "linear_model.fit(X_train, y_train)\n",
    "\n",
    "# Make predictions on the test data\n",
    "y_pred = linear_model.predict(X_test)\n",
    "\n",
    "# Calculate Mean Squared Error (MSE) on the test data\n",
    "mse = mean_squared_error(y_test, y_pred)\n",
    "\n",
    "# Print the MSE result\n",
    "print(f'Mean Squared Error on the test data: {mse:.4f}')\n",
    "\n"
   ]
  },
  {
   "cell_type": "markdown",
   "metadata": {},
   "source": [
    "# 4: Cross-validation"
   ]
  },
  {
   "cell_type": "markdown",
   "metadata": {},
   "source": [
    "# 5: Visualising our performance metric for the baseline model"
   ]
  },
  {
   "cell_type": "markdown",
   "metadata": {},
   "source": [
    "# 6: Evaluating the model"
   ]
  }
 ],
 "metadata": {
  "kernelspec": {
   "display_name": "Python 3",
   "language": "python",
   "name": "python3"
  },
  "language_info": {
   "codemirror_mode": {
    "name": "ipython",
    "version": 3
   },
   "file_extension": ".py",
   "mimetype": "text/x-python",
   "name": "python",
   "nbconvert_exporter": "python",
   "pygments_lexer": "ipython3",
   "version": "3.11.9"
  }
 },
 "nbformat": 4,
 "nbformat_minor": 2
}
