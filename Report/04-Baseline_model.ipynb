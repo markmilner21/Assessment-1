{
 "cells": [
  {
   "cell_type": "markdown",
   "metadata": {},
   "source": [
    "# 0: Section Overview\n",
    "\n",
    "In this section, we will impliment a baseline model. This will provide a basic model against which more complex models can be compared. This comparison will help us to gauge the effectiveness of enhancements or modifications made to the model. Additionally, It sets a standard for evaluating whether more sophisticated models actually provide improvements in predictive performance (in our case, this performance metric is measured as the MSE)."
   ]
  },
  {
   "cell_type": "markdown",
   "metadata": {},
   "source": [
    "# 1: Necessary Imports"
   ]
  },
  {
   "cell_type": "code",
   "execution_count": 6,
   "metadata": {},
   "outputs": [],
   "source": [
    "import pandas as pd\n",
    "import numpy as np\n",
    "import matplotlib\n",
    "import matplotlib.pyplot as plt"
   ]
  },
  {
   "cell_type": "markdown",
   "metadata": {},
   "source": [
    "# 2: Data Access\n",
    "\n",
    "We will access the data in the same way we accessed the date in section 03-EDA"
   ]
  },
  {
   "cell_type": "code",
   "execution_count": 11,
   "metadata": {},
   "outputs": [],
   "source": [
    "test_filepath = r\"C:\\Users\\markm\\OneDrive\\Documents\\University\\Year 4\\dst\\GitHub\\Assessment_1\\Train_and_Test_data\\test.xlsx\" # Enter your file path for the train data\n",
    "train_filepath = r\"C:\\Users\\markm\\OneDrive\\Documents\\University\\Year 4\\dst\\GitHub\\Assessment_1\\Train_and_Test_data\\train.xlsx\" # Enter your file path for the test data\n",
    "\n",
    "test_data = pd.read_excel(test_filepath)\n",
    "train_data = pd.read_excel(train_filepath)"
   ]
  },
  {
   "cell_type": "code",
   "execution_count": 13,
   "metadata": {},
   "outputs": [
    {
     "name": "stdout",
     "output_type": "stream",
     "text": [
      "            date iso_code continent      location  Stringency Index  CH Index  \\\n",
      "0     2020-01-05      AND    Europe       Andorra               0.0       0.0   \n",
      "1     2020-01-06      AND    Europe       Andorra               0.0       0.0   \n",
      "2     2020-01-07      AND    Europe       Andorra               0.0       0.0   \n",
      "3     2020-01-08      AND    Europe       Andorra               0.0       0.0   \n",
      "4     2020-01-09      AND    Europe       Andorra               0.0       0.0   \n",
      "...          ...      ...       ...           ...               ...       ...   \n",
      "52257 2024-07-31      ZAF    Africa  South Africa               NaN       NaN   \n",
      "52258 2024-08-01      ZAF    Africa  South Africa               NaN       NaN   \n",
      "52259 2024-08-02      ZAF    Africa  South Africa               NaN       NaN   \n",
      "52260 2024-08-03      ZAF    Africa  South Africa               NaN       NaN   \n",
      "52261 2024-08-04      ZAF    Africa  South Africa               NaN       NaN   \n",
      "\n",
      "       Gov Resp Index  Econ Sup Index  total_cases  new_cases  ...  \\\n",
      "0                 0.0             0.0          0.0        0.0  ...   \n",
      "1                 0.0             0.0          0.0        0.0  ...   \n",
      "2                 0.0             0.0          0.0        0.0  ...   \n",
      "3                 0.0             0.0          0.0        0.0  ...   \n",
      "4                 0.0             0.0          0.0        0.0  ...   \n",
      "...               ...             ...          ...        ...  ...   \n",
      "52257             NaN             NaN    4072765.0        0.0  ...   \n",
      "52258             NaN             NaN    4072765.0        0.0  ...   \n",
      "52259             NaN             NaN    4072765.0        0.0  ...   \n",
      "52260             NaN             NaN    4072765.0        0.0  ...   \n",
      "52261             NaN             NaN    4072765.0        0.0  ...   \n",
      "\n",
      "       handwashing_facilities  hospital_beds_per_thousand  life_expectancy  \\\n",
      "0                         NaN                         NaN            83.73   \n",
      "1                         NaN                         NaN            83.73   \n",
      "2                         NaN                         NaN            83.73   \n",
      "3                         NaN                         NaN            83.73   \n",
      "4                         NaN                         NaN            83.73   \n",
      "...                       ...                         ...              ...   \n",
      "52257                  43.993                        2.32            64.13   \n",
      "52258                  43.993                        2.32            64.13   \n",
      "52259                  43.993                        2.32            64.13   \n",
      "52260                  43.993                        2.32            64.13   \n",
      "52261                  43.993                        2.32            64.13   \n",
      "\n",
      "       human_development_index  population  \\\n",
      "0                        0.868       79843   \n",
      "1                        0.868       79843   \n",
      "2                        0.868       79843   \n",
      "3                        0.868       79843   \n",
      "4                        0.868       79843   \n",
      "...                        ...         ...   \n",
      "52257                    0.709    59893884   \n",
      "52258                    0.709    59893884   \n",
      "52259                    0.709    59893884   \n",
      "52260                    0.709    59893884   \n",
      "52261                    0.709    59893884   \n",
      "\n",
      "       excess_mortality_cumulative_absolute  excess_mortality_cumulative  \\\n",
      "0                                       NaN                          NaN   \n",
      "1                                       NaN                          NaN   \n",
      "2                                       NaN                          NaN   \n",
      "3                                       NaN                          NaN   \n",
      "4                                       NaN                          NaN   \n",
      "...                                     ...                          ...   \n",
      "52257                                   NaN                          NaN   \n",
      "52258                                   NaN                          NaN   \n",
      "52259                                   NaN                          NaN   \n",
      "52260                                   NaN                          NaN   \n",
      "52261                                   NaN                          NaN   \n",
      "\n",
      "       excess_mortality  excess_mortality_cumulative_per_million  days_since  \n",
      "0                   NaN                                      NaN           0  \n",
      "1                   NaN                                      NaN           1  \n",
      "2                   NaN                                      NaN           2  \n",
      "3                   NaN                                      NaN           3  \n",
      "4                   NaN                                      NaN           4  \n",
      "...                 ...                                      ...         ...  \n",
      "52257               NaN                                      NaN        1669  \n",
      "52258               NaN                                      NaN        1670  \n",
      "52259               NaN                                      NaN        1671  \n",
      "52260               NaN                                      NaN        1672  \n",
      "52261               NaN                                      NaN        1673  \n",
      "\n",
      "[52262 rows x 72 columns]\n"
     ]
    }
   ],
   "source": []
  },
  {
   "cell_type": "code",
   "execution_count": null,
   "metadata": {},
   "outputs": [],
   "source": [
    "print(test_data.head())"
   ]
  },
  {
   "cell_type": "markdown",
   "metadata": {},
   "source": [
    "# 2: Implimenting the baseline model: Linear Regression\n",
    "\n",
    "Initally, let us train the model on the entire training data. Note that we don't require the first 4 columns (date, iso_code, continent and location). Therefore, the first thing we will do is remove these columns "
   ]
  },
  {
   "cell_type": "code",
   "execution_count": null,
   "metadata": {},
   "outputs": [],
   "source": []
  },
  {
   "cell_type": "markdown",
   "metadata": {},
   "source": []
  }
 ],
 "metadata": {
  "kernelspec": {
   "display_name": "Python 3",
   "language": "python",
   "name": "python3"
  },
  "language_info": {
   "codemirror_mode": {
    "name": "ipython",
    "version": 3
   },
   "file_extension": ".py",
   "mimetype": "text/x-python",
   "name": "python",
   "nbconvert_exporter": "python",
   "pygments_lexer": "ipython3",
   "version": "3.11.9"
  }
 },
 "nbformat": 4,
 "nbformat_minor": 2
}
